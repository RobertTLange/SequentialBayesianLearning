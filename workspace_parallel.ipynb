{
 "cells": [
  {
   "cell_type": "code",
   "execution_count": 1,
   "metadata": {},
   "outputs": [],
   "source": [
    "import os\n",
    "import time\n",
    "import numpy as np\n",
    "\n",
    "import pymc3 as pm\n",
    "import theano\n",
    "import matplotlib.pyplot as plt\n",
    "\n",
    "from utils.helpers import *\n",
    "from utils.plotting import *\n",
    "from utils.glm_models import *\n",
    "\n",
    "import sampling.seq_gen as sg\n",
    "import sampling.seq_analysis as sa\n",
    "\n",
    "# Import relevant SBL modules\n",
    "import sbl_agents.sbl_cat_dir as sbl_cd\n",
    "import sbl_agents.sbl_hmm as sbl_hmm\n",
    "\n",
    "# Set random seed for replicability and define directories\n",
    "np.random.seed(seed=1234)\n",
    "results_dir = os.getcwd() + \"/results/\"\n",
    "fig_dir = os.getcwd() + \"/figures/\"\n",
    "data_dir = os.getcwd() + \"/data/\""
   ]
  },
  {
   "cell_type": "code",
   "execution_count": 92,
   "metadata": {},
   "outputs": [],
   "source": [
    "# General Model Settings\n",
    "model_types = [\"SP\", \"AP\", \"TP\"]\n",
    "save_results = True\n",
    "verbose = True\n",
    "\n",
    "sample_files = [[\"sub-01/sub-01_ses-1_run-1\", \"sub-01/sub-01_ses-1_run-2\",\n",
    "                 \"sub-01/sub-01_ses-1_run-3\", \"sub-01/sub-01_ses-1_run-4\",\n",
    "                 \"sub-01/sub-01_ses-1_run-5\"]]\n",
    "\n",
    "subject_list = range(len(sample_files))\n",
    "\n",
    "eeg_files = [\"sub-01/sub-01_sbl\"]\n",
    "\n",
    "elec_of_interest = {\"FCz\": 47, \"FC2\": 46, \"FC4\": 45, \n",
    "                    \"Cz\": 48, \"C2\": 49, \"C4\": 50,\n",
    "                    \"C6\": 51, \"CPz\": 32, \"CP2\": 56,\n",
    "                    \"CP4\": 55, \"CP6\": 54}\n",
    "\n",
    "trial_coding_lookup = {11: \"First Regime - Low Intensity\",\n",
    "                       12: \"First Regime - High Intensity\",\n",
    "                       21: \"Second Regime - Low Intensity\",\n",
    "                       22: \"Second Regime - High Intensity\",\n",
    "                       33: \"Catch Trial\"}\n",
    "\n",
    "# Select block and electrode for analysis\n",
    "sampling_rate = 0.3\n",
    "inter_stim_interval = np.array([-0.05, 0.65])\n",
    "reg_model_type = \"OLS\"\n",
    "template = \"Subject {} | Block {} | Electrode {} | Regressor: {} | Time: {:.2f}\""
   ]
  },
  {
   "cell_type": "code",
   "execution_count": 93,
   "metadata": {},
   "outputs": [],
   "source": [
    "# Subset for proto-typing\n",
    "sampling_rate = 0.1\n",
    "inter_stim_interval = np.array([0.1, 0.5])\n",
    "eoi = {\"Cz\": 48, \"C2\": 49, \"C4\": 50}"
   ]
  },
  {
   "cell_type": "markdown",
   "metadata": {},
   "source": [
    "**Loops to Run**\n",
    "- ~15 Subjects, 5 blocks, ~10 Electrodes\n",
    "- ~30 Different Models, ~359 Sample Point per event\n",
    "\n",
    "**TODO**\n",
    "- [x] HDF5 logging\n",
    "- Check if $\\tau$ is working\n",
    "- Get CS running\n",
    "- Get HMM running\n",
    "- Write a general function to get regressors"
   ]
  },
  {
   "cell_type": "code",
   "execution_count": 94,
   "metadata": {},
   "outputs": [],
   "source": [
    "import h5py\n",
    "import tables\n",
    "\n",
    "class ExperimentLog():\n",
    "    def __init__(self, num_subjects, num_blocks, elec_of_interest,\n",
    "                 save_fname=None):\n",
    "        self.save_fname = save_fname\n",
    "        \n",
    "        if os.path.exists(self.save_fname):\n",
    "            os.remove(self.save_fname)\n",
    "        \n",
    "        # Initialize all the groups in hdf5 object\n",
    "        h5f = tables.open_file(self.save_fname, mode=\"a\")\n",
    "        for i in range(num_subjects):\n",
    "            sub_i = h5f.create_group(\"/\", \"subject_\" + str(subject_id))\n",
    "            for j in range(num_blocks):\n",
    "                block_j = h5f.create_group(\"/\" + \"subject_\" + str(i),  \"block_\" + str(j))\n",
    "                for elec_name, elec_num in elec_of_interest.items():\n",
    "                    elec = h5f.create_group(\"/\" + \"subject_\" + str(i) + \"/block_\" + str(j), \"elec_\" + elec_name)\n",
    "        h5f.flush()\n",
    "        h5f.close()\n",
    "\n",
    "    def dump_data(self, subject_id, block_id,\n",
    "                  elec_name, regressor_type, results):\n",
    "\n",
    "        h5f = tables.open_file(self.save_fname, mode=\"a\")\n",
    "        atom = tables.Atom.from_dtype(results.dtype)\n",
    "        group_name = \"subject_\" + str(subject_id) + \"/block_\" + str(block_id) + \"/elec_\" + elec_name\n",
    "        group = h5f.root[group_name]\n",
    "        d = h5f.create_carray(group, regressor_type, atom,\n",
    "                              results.shape)\n",
    "        d[...] = results[...]\n",
    "\n",
    "        h5f.flush()\n",
    "        h5f.close()"
   ]
  },
  {
   "cell_type": "code",
   "execution_count": 98,
   "metadata": {},
   "outputs": [],
   "source": [
    "# Create Logging object\n",
    "log = ExperimentLog(num_subjects=1, num_blocks=5,\n",
    "                    elec_of_interest=eoi,\n",
    "                    save_fname=results_dir + \"trial_by_trial.hdf5\")"
   ]
  },
  {
   "cell_type": "code",
   "execution_count": 99,
   "metadata": {},
   "outputs": [
    {
     "data": {
      "text/plain": [
       "/subject_0/block_0 (Group) ''\n",
       "  children := ['elec_C2' (Group), 'elec_C4' (Group), 'elec_Cz' (Group)]"
      ]
     },
     "execution_count": 99,
     "metadata": {},
     "output_type": "execute_result"
    }
   ],
   "source": [
    "h5f = tables.open_file(results_dir + \"trial_by_trial.hdf5\", mode=\"a\")\n",
    "h5f.root[\"subject_0/block_0\"]"
   ]
  },
  {
   "cell_type": "code",
   "execution_count": null,
   "metadata": {},
   "outputs": [
    {
     "name": "stdout",
     "output_type": "stream",
     "text": [
      "Subject 1 | Block 1 | Electrode Cz | Regressor: Null | Time: 80.56\n",
      "Subject 1 | Block 1 | Electrode Cz | Regressor: CD-PS-SP | Time: 85.11\n",
      "Subject 1 | Block 1 | Electrode Cz | Regressor: CD-BS-SP | Time: 85.83\n"
     ]
    },
    {
     "name": "stderr",
     "output_type": "stream",
     "text": [
      "/Users/rtl/anaconda2/envs/SBL/lib/python3.6/site-packages/tables/path.py:112: NaturalNameWarning: object name is not a valid Python identifier: 'CD-BS-SP'; it does not match the pattern ``^[a-zA-Z_][a-zA-Z0-9_]*$``; you will not be able to use natural naming to access this object; using ``getattr()`` will still work, though\n",
      "  NaturalNameWarning)\n"
     ]
    }
   ],
   "source": [
    "# Loop over SUBJECTS\n",
    "for subject_id in subject_list:\n",
    "    # print(\"Subject {}: LME Trial-by-Trial Analysis\".format(subject_id + 1))\n",
    "    eeg_data = sio.loadmat(\"data/\" + eeg_files[subject_id] + \".mat\")\n",
    "    \n",
    "    # Loop over BLOCKS\n",
    "    for block_id in range(len(sample_files[subject_id])):\n",
    "        # print(\"\\t Block {}: Load Seq, Comp Regressors\".format(block_id + 1))\n",
    "        \n",
    "        # Load in the specific trial/stimuli sequence\n",
    "        sample, meta = load_obj(\"data/\" + sample_files[subject_id][block_id] + \".mat\")\n",
    "        seq, hidden = sample[:, 2], sample[:, 1]\n",
    "    \n",
    "        # Compute Surprise Regressors\n",
    "        CD_PS_SP, CD_BS_SP, CD_CS_SP = sbl_cd.main(seq, hidden, tau=0, model_type=\"SP\")\n",
    "        CD_PS_AP, CD_BS_AP, CD_CS_AP = sbl_cd.main(seq, hidden, tau=0, model_type=\"AP\")\n",
    "        CD_PS_TP, CD_BS_TP, CD_CS_TP = sbl_cd.main(seq, hidden, tau=0, model_type=\"TP\")\n",
    "\n",
    "        # regressors = {\"PS-SP\": PS_SP, \"BS-SP\": BS_SP, \"CS-SP\": CS_SP,\n",
    "        #               \"PS-AP\": PS_AP, \"BS-AP\": BS_AP, \"CS-AP\": CS_AP,\n",
    "        #               \"PS-TP\": PS_TP, \"BS-TP\": BS_TP, \"CS-TP\": CS_TP}\n",
    "\n",
    "        regressors = {\"CD_PS_SP\": CD_PS_SP, \"CD_BS-SP\": CD_BS_SP,\n",
    "                      \"CD_PS_AP\": CD_PS_AP, \"CD-BS-AP\": CD_BS_AP,\n",
    "                      \"CD_PS_TP\": CD_PS_TP, \"CD-BS-TP\": CD_BS_TP}\n",
    "        \n",
    "        # Loop over ELECTRODES OF INTEREST\n",
    "        for elec_name, elec_id in eoi.items():\n",
    "            # print(\"\\t \\t Electrode {}: Select EEG\".format(elec_name))\n",
    "            \n",
    "            # Get the block- and electrode-specific eeg data\n",
    "            y_elec, y_tw = get_electrode_data(eeg_data, block_id, elec_id,\n",
    "                                              inter_stim_interval, sampling_rate,\n",
    "                                              verbose=False)\n",
    "            # Get null model once for a block \n",
    "            # (PS-AP as filler - parallelize does not work with None)\n",
    "            start = time.time()\n",
    "            null_model_lme = parallelize_over_samples(y_elec,\n",
    "                                                      regressor=regressors[\"CD-PS-AP\"],\n",
    "                                                      reg_model_type=\"Null\")\n",
    "            t_time = time.time() - start\n",
    "            \n",
    "            log.dump_data(subject_id, block_id, elec_name, \"Null\", null_model_lme)\n",
    "            log.dump_data(subject_id, block_id, elec_name, \"Sample_Points\", y_tw)\n",
    "            print(template.format(subject_id+1, block_id+1, elec_name, \"Null\", t_time))\n",
    "           \n",
    "            # Loop over Different SURPRISE REGRESSORS\n",
    "            for regressor_type, regressor in regressors.items():\n",
    "                # print(\"\\t \\t \\t Model {}: Run in Parallel\".format(regressor_type))\n",
    "                \n",
    "                start = time.time()\n",
    "                results = parallelize_over_samples(y_elec, regressor, reg_model_type)\n",
    "                t_time = time.time() - start\n",
    "                \n",
    "                log.dump_data(subject_id, block_id, elec_name, regressor_type, results)\n",
    "                print(template.format(subject_id+1, block_id+1, elec_name, regressor_type, t_time))"
   ]
  },
  {
   "cell_type": "code",
   "execution_count": null,
   "metadata": {},
   "outputs": [],
   "source": [
    "y_labels = [\"PS_SP\", \"BS_SP\", \"CS_SP\",\n",
    "            \"PS_AP\", \"BS_AP\", \"CS_AP\",\n",
    "            \"PS_TP\", \"BS_TP\", \"CS_TP\"]\n",
    "x_labels = [\"Block 1\", \"Block 2\", \"Block 3\", \"Block 4\"]\n",
    "\n",
    "heat_data = np.array(list(log_model_evidences.values()))\n",
    "\n",
    "\n",
    "fig, ax = plt.subplots()\n",
    "im = ax.imshow(heat_data, cmap=\"Reds\")\n",
    "\n",
    "# We want to show all ticks...\n",
    "ax.set_xticks(np.arange(len(x_labels)))\n",
    "ax.set_yticks(np.arange(len(y_labels)))\n",
    "# ... and label them with the respective list entries\n",
    "ax.set_xticklabels(x_labels)\n",
    "ax.set_yticklabels(y_labels)\n",
    "\n",
    "# Rotate the tick labels and set their alignment.\n",
    "plt.setp(ax.get_xticklabels(), rotation=45, ha=\"right\",\n",
    "         rotation_mode=\"anchor\")\n",
    "\n",
    "ax.set_title(\"Log Model Evidences: FCz\")"
   ]
  }
 ],
 "metadata": {
  "kernelspec": {
   "display_name": "Python3 (SBL)",
   "language": "python",
   "name": "sbl"
  },
  "language_info": {
   "codemirror_mode": {
    "name": "ipython",
    "version": 3
   },
   "file_extension": ".py",
   "mimetype": "text/x-python",
   "name": "python",
   "nbconvert_exporter": "python",
   "pygments_lexer": "ipython3",
   "version": "3.6.6"
  }
 },
 "nbformat": 4,
 "nbformat_minor": 2
}
