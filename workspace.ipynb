{
 "cells": [
  {
   "cell_type": "markdown",
   "metadata": {},
   "source": [
    "# Sequential Bayesian Learning (SBL)\n",
    "## Authors:  Author: Robert Tjarko Lange, Miro Grundei, Sam Gjisem\n",
    "## Last Update: December 2018"
   ]
  },
  {
   "cell_type": "markdown",
   "metadata": {},
   "source": [
    "# 0. General Introduction to the project\n",
    "\n",
    "In this project we investigate the theoretical modelling of mismatch-negativity in the human somatosensory cortex. More specifically, we study a novel roving paradigm which is generated from a structured graphical model. This allows us to define standard and deviant stimuli in stimulus-feature-independent manner. Furthermore, sampling (as opposed to deterministic sequence generation) enables us to control for sequence-dependent cofounding factors.\n",
    "\n",
    "The following notebook is structured as follows:\n",
    "\n",
    "- **1. Generation of Trial Sequences based on Graphical Model**\n",
    "    * We formulate a general Markov model which generates a sequence of trials (0 - low intensity, 0.5 - catch trial, 1 - high intensity)\n",
    "    * The alternation probability between different observations depends upon the previous observed states as well as the hidden state/regime which is modeled as a Markov Chain.\n",
    "    * We are able to increase the order of the Markov dependency in the data-generating process. This allows to vary the complexity of the sequence generation.\n",
    "    \n",
    "    \n",
    "- **2. Modeling of different Sequential Bayesian Learning Agents**.\n",
    "    * The agents process the trial sequence as it comes in. Based on different probabilistic models they update there current posterior estimate about the hidden state that drives the sampling of the observed state. \n",
    "    * Based on her current posterior estimate, we can calculate different surprise measures (e.g. Predictive, Bayesian as well as Confidence-Corrected). These surprise measures indicate how well the agent is able to infer the data-generating mechanism and the corresponding hidden states.\n",
    "    * Going forward we will combine the data-generating paradigm and surprise measures with frequency data obtained from an EEG study. Thereby, we will be able to compare different models with different degrees of complexity of somatosensory adaptation and learning.\n",
    "    \n",
    "    \n",
    "- **3. Model Comparison across Different SBL Agents and Surprise Regressors**\n",
    "    * Evaluation of theoretical models in explaining the EEG frequency variation."
   ]
  },
  {
   "cell_type": "code",
   "execution_count": null,
   "metadata": {},
   "outputs": [],
   "source": [
    "!pip install -r requirements.txt --quiet"
   ]
  },
  {
   "cell_type": "code",
   "execution_count": null,
   "metadata": {},
   "outputs": [],
   "source": [
    "# Import relevant sampling modules\n",
    "%matplotlib inline\n",
    "%load_ext autoreload\n",
    "%autoreload 2\n",
    "%config InlineBackend.figure_format = 'retina'"
   ]
  },
  {
   "cell_type": "code",
   "execution_count": 1,
   "metadata": {},
   "outputs": [],
   "source": [
    "import os\n",
    "import time\n",
    "import numpy as np\n",
    "\n",
    "import pymc3 as pm\n",
    "import theano\n",
    "import matplotlib.pyplot as plt\n",
    "\n",
    "from utils.helpers import *\n",
    "from utils.plotting import *\n",
    "from utils.glm_models import *\n",
    "\n",
    "import sampling.seq_gen as sg\n",
    "import sampling.seq_analysis as sa\n",
    "\n",
    "# Import relevant SBL modules\n",
    "import sbl_agents.sbl_cat_dir as sbl_cd\n",
    "import sbl_agents.sbl_hmm as sbl_hmm\n",
    "\n",
    "# Set random seed for replicability and define directories\n",
    "np.random.seed(seed=1234)\n",
    "results_dir = os.getcwd() + \"/results/\"\n",
    "fig_dir = os.getcwd() + \"/figures/\"\n",
    "data_dir = os.getcwd() + \"/data/\""
   ]
  },
  {
   "cell_type": "markdown",
   "metadata": {},
   "source": [
    "# 1. Generation of Trial Sequence based on Graphical Model\n",
    "\n",
    "Our sampling paradigm is motivated by the classical roving paradigm. In such a setting a deviant is defined relative to the previous trials.\n",
    "\n",
    "Depending on whether or not we account for second order Markov dependency also $o_{t-2}$ influences the sampling probabilities. Our generating process can be described by the following graphical model:\n",
    "\n",
    "<img src=\"figures/gm_seq_gen.png\" alt=\"drawing\" width=\"750\"/>\n",
    "\n",
    "* Catch: $p(o_t = 0.5) = 0.05$\n",
    "* Regime switch: $p(s_t \\neq s_{t-1}) = 0.01$\n",
    "\n",
    "Sample a sequence from the Graphical Model and saves it to .mat file\n",
    "* 1st order Markov sequence of length 800 with following probabilities:\n",
    "    * Regime 0: $p(o_t = 0|o_{t-1}=0, s_t=0), p(o_t = 1|o_{t-1}=0, s_t=0)$\n",
    "    * Regime 1: $p(o_t = 0|o_{t-1}=0, s_t=1), p(o_t = 1|o_{t-1}=0, s_t=1)$\n",
    "```\n",
    "pythonw seq_gen.py -t 1st_temp -reg_init 0.5 -reg_change 0.01 -catch 0.05 -obs_init 0.5 -obs_change 0.35 0.65 0.65 0.35 -order 1 -v -seq\n",
    "800\n",
    "```\n",
    "\n",
    "* 2nd order Markov sequence of length 800 with following probabilities:\n",
    "    * Regime 0: $p(o_t = 0|o_{t-1}=0, o_{t-1}=0) = 0.35, p(o_t|o_{t-1}) = 0.65$\n",
    "    * Regime 1: $p(o_t = 0|o_{t-1}=0) = 0.65, p(o_t|o_{t-1}) = 0.35$\n",
    "```\n",
    "pythonw seq_gen.py -t 1st_temp -reg_init 0.5 -reg_change 0.01 -catch 0.05 -obs_init 0.5 -obs_change 0.35 0.65 0.65 0.35 -order 2 -v -seq\n",
    "800\n",
    "```"
   ]
  },
  {
   "cell_type": "code",
   "execution_count": null,
   "metadata": {},
   "outputs": [],
   "source": [
    "# Define parameters for sequence sampling\n",
    "prob_regime_init = np.array([0.5, 0.5])  # Prob. vector for inital regime (hidden state)\n",
    "prob_regime_change = 0.01  # Prob. of sampling a regime change\n",
    "prob_obs_init = np.array([0.5, 0.5, 0])  # Prob. vector for inital trial/stimulus (observed state)\n",
    "prob_obs_change = [0.45, 0.45, 0.05, 0.05, 0.05, 0.05, 0.45, 0.45]  # Prob. matrix for different regimes\n",
    "prob_catch = 0.05  # Prob. of sampling a catch trial (independent of hidden state)\n",
    "\n",
    "order = len(prob_obs_change)/4  # Markov order/lag dependency in the sampling scheme\n",
    "seq_length = 200  # Length of sampled sequence\n",
    "sample_file = \"S1_200\"  # Title of file saved\n",
    "matlab_out = True  # Boolean - store file as .mat - otherwise .pkl file\n",
    "plot_seq = True  # Booelean - plot the sampled sequence\n",
    "verbose = True  # Print out the transition prob. specification and empirical statistics of the sampled seq\n",
    "plot_seqs = True"
   ]
  },
  {
   "cell_type": "code",
   "execution_count": null,
   "metadata": {},
   "outputs": [],
   "source": [
    "# Create instance of sampling class\n",
    "gen_temp = sg.seq_gen(order, prob_catch, prob_regime_init, prob_regime_change,\n",
    "                      prob_obs_init, prob_obs_change, verbose)"
   ]
  },
  {
   "cell_type": "code",
   "execution_count": null,
   "metadata": {},
   "outputs": [],
   "source": [
    "# sequence = gen_temp.sample(seq_length)\n",
    "# Plot the sampled sequence - when exec from command line\n",
    "sg.sample_and_save(gen_temp, seq_length, sample_file,\n",
    "                   matlab_out, plot_seq)"
   ]
  },
  {
   "cell_type": "code",
   "execution_count": null,
   "metadata": {},
   "outputs": [],
   "source": [
    "if plot_seqs:\n",
    "    sa.main(order=1, verbose=False, plot=True, save=False)"
   ]
  },
  {
   "cell_type": "code",
   "execution_count": null,
   "metadata": {},
   "outputs": [],
   "source": [
    "if plot_seqs:\n",
    "    sa.main(order=2, verbose=False, plot=True, save=False)"
   ]
  },
  {
   "cell_type": "markdown",
   "metadata": {},
   "source": [
    "# 2. Modeling of different Sequential Bayesian Learning Agents"
   ]
  },
  {
   "cell_type": "code",
   "execution_count": null,
   "metadata": {},
   "outputs": [],
   "source": [
    "sample_files = [[\"sub-01/sub-01_ses-1_run-1\", \"sub-01/sub-01_ses-1_run-2\",\n",
    "                 \"sub-01/sub-01_ses-1_run-3\", \"sub-01/sub-01_ses-1_run-4\",\n",
    "                 \"sub-01/sub-01_ses-1_run-5\"]]"
   ]
  },
  {
   "cell_type": "code",
   "execution_count": null,
   "metadata": {},
   "outputs": [],
   "source": [
    "sample, meta = load_obj(\"data/\" + sample_files[0][0] + \".mat\")\n",
    "\n",
    "seq = sample[:, 2]\n",
    "hidden = sample[:, 1]\n",
    "\n",
    "prob_regime_init = meta[\"prob_regime_init\"]\n",
    "prob_obs_init = meta[\"prob_obs_init\"]\n",
    "prob_obs_change = meta[\"prob_obs_change\"]\n",
    "prob_regime_change = meta[\"prob_regime_change\"]"
   ]
  },
  {
   "cell_type": "code",
   "execution_count": null,
   "metadata": {},
   "outputs": [],
   "source": [
    "# General Model Settings\n",
    "model_types = [\"SP\", \"AP\", \"TP\"]\n",
    "save_results = True\n",
    "verbose = True"
   ]
  },
  {
   "cell_type": "markdown",
   "metadata": {},
   "source": [
    "## 2.1. Conjugate Categorical-Dirichlet Model"
   ]
  },
  {
   "cell_type": "code",
   "execution_count": null,
   "metadata": {},
   "outputs": [],
   "source": [
    "tau = 0."
   ]
  },
  {
   "cell_type": "code",
   "execution_count": null,
   "metadata": {},
   "outputs": [],
   "source": [
    "# Test agents by calculating posterior after 3 timesteps\n",
    "# and Surprises for t=1,2,3\n",
    "for model in model_types:\n",
    "    sbl_cd.test_agent(seq, hidden, tau, model, verbose)"
   ]
  },
  {
   "cell_type": "code",
   "execution_count": null,
   "metadata": {},
   "outputs": [],
   "source": [
    "for model in model_types:\n",
    "    sbl_cd.main(seq, hidden, tau, model,\n",
    "                prob_regime_init, prob_obs_init, prob_obs_change,\n",
    "                prob_regime_change,\n",
    "                save_results, title=\"CD_\" + model + \"_\" + sample_file,\n",
    "                verbose=True)"
   ]
  },
  {
   "cell_type": "code",
   "execution_count": null,
   "metadata": {},
   "outputs": [],
   "source": [
    "SP_CD = load_obj(results_dir + \"CD_\" + \"SP\" + \"_\" + sample_file + \".pkl\")\n",
    "AP_CD = load_obj(results_dir + \"CD_\" + \"AP\" + \"_\" + sample_file + \".pkl\")\n",
    "TP_CD = load_obj(results_dir + \"CD_\" + \"TP\" + \"_\" + sample_file + \".pkl\")"
   ]
  },
  {
   "cell_type": "code",
   "execution_count": null,
   "metadata": {},
   "outputs": [],
   "source": [
    "plot_surprise(SP_CD, AP_CD, TP_CD,\n",
    "              title=r\"Categorical-Dirichlet ($\\tau = 0$)\",\n",
    "              save_pic=False)"
   ]
  },
  {
   "cell_type": "markdown",
   "metadata": {},
   "source": [
    "## 2.2. Hidden Markov Model"
   ]
  },
  {
   "cell_type": "code",
   "execution_count": null,
   "metadata": {},
   "outputs": [],
   "source": [
    "n_states = 2"
   ]
  },
  {
   "cell_type": "code",
   "execution_count": null,
   "metadata": {},
   "outputs": [],
   "source": [
    "# Test agents by calculating posterior after 3 timesteps\n",
    "# and Surprises for t=1,2,3\n",
    "for model in model_types:\n",
    "    sbl_hmm.test_agent(seq, hidden, n_states, model, verbose)"
   ]
  },
  {
   "cell_type": "markdown",
   "metadata": {},
   "source": [
    "## 3. Model Comparison across Different SBL Agents and Surprise Regressors"
   ]
  },
  {
   "cell_type": "code",
   "execution_count": 5,
   "metadata": {},
   "outputs": [],
   "source": [
    "sample_files = [[\"sub-01/sub-01_ses-1_run-1\", \"sub-01/sub-01_ses-1_run-2\",\n",
    "                 \"sub-01/sub-01_ses-1_run-3\", \"sub-01/sub-01_ses-1_run-4\",\n",
    "                 \"sub-01/sub-01_ses-1_run-5\"]]\n",
    "\n",
    "# Load in EEG Dataset\n",
    "eeg_files = [\"sub-01/sub-01_sbl\"]\n",
    "eeg_data = sio.loadmat(\"data/\" + eeg_files[0] + \".mat\")\n",
    "\n",
    "electrodes_of_interest = {\"FCz\": 47, \"FC2\": 46, \"FC4\": 45, \n",
    "                          \"Cz\": 48, \"C2\": 49, \"C4\": 50,\n",
    "                          \"C6\": 51, \"CPz\": 32, \"CP2\": 56,\n",
    "                          \"CP4\": 55, \"CP6\": 54}\n",
    "\n",
    "trial_coding_lookup = {11: \"First Regime - Low Intensity\",\n",
    "                       12: \"First Regime - High Intensity\",\n",
    "                       21: \"Second Regime - Low Intensity\",\n",
    "                       22: \"Second Regime - High Intensity\",\n",
    "                       33: \"Catch Trial\"}\n",
    "\n",
    "# Select block and electrode for analysis\n",
    "block_id = 0\n",
    "elec_id = electrodes_of_interest[\"FCz\"]\n",
    "sampling_rate = 0.3\n",
    "inter_stim_interval = np.array([-0.05, 0.65])"
   ]
  },
  {
   "cell_type": "code",
   "execution_count": 6,
   "metadata": {},
   "outputs": [],
   "source": [
    "# Get Regressors ready!\n",
    "sample, meta = load_obj(\"data/\" + sample_files[0][block_id] + \".mat\")\n",
    "seq = sample[:, 2]\n",
    "hidden = sample[:, 1]"
   ]
  },
  {
   "cell_type": "code",
   "execution_count": 7,
   "metadata": {},
   "outputs": [],
   "source": [
    "PS_SP, BS_SP, CS_SP = sbl_cd.main(seq, hidden, tau=0, model_type=\"SP\")\n",
    "PS_AP, BS_AP, CS_AP = sbl_cd.main(seq, hidden, tau=0, model_type=\"AP\")\n",
    "PS_TP, BS_TP, CS_TP = sbl_cd.main(seq, hidden, tau=0, model_type=\"TP\")\n",
    "\n",
    "regressors = {\"PS_SP\": PS_SP, \"BS_SP\": BS_SP, \"CS_SP\": CS_SP,\n",
    "              \"PS_AP\": PS_AP, \"BS_AP\": BS_AP, \"CS_AP\": CS_AP,\n",
    "              \"PS_TP\": PS_TP, \"BS_TP\": BS_TP, \"CS_TP\": CS_TP}"
   ]
  },
  {
   "cell_type": "code",
   "execution_count": 8,
   "metadata": {},
   "outputs": [
    {
     "name": "stdout",
     "output_type": "stream",
     "text": [
      "Done selecting block and electrode specific data for [-0.05, 0.65]ms interval\n",
      "Downsampled original 512 Hz Sampling Rate to 165 Hz.\n"
     ]
    }
   ],
   "source": [
    "# Preprocessor data to get data that we want to explain by the surprise regressors\n",
    "# Return an array of shape num_trials x sampling rate\n",
    "y_elec = get_electrode_data(eeg_data, block_id, elec_id, inter_stim_interval, sampling_rate)"
   ]
  },
  {
   "cell_type": "markdown",
   "metadata": {},
   "source": [
    "# Loops to Run in computation\n",
    "- 10 Electrodes\n",
    "    - 20 Subjects\n",
    "- 5 blocks\n",
    "    - 332 Sample Point per event\n",
    "        - 10 Different Models"
   ]
  },
  {
   "cell_type": "code",
   "execution_count": null,
   "metadata": {},
   "outputs": [],
   "source": [
    "import multiprocessing\n",
    "from functools import partial\n",
    "from contextlib import contextmanager\n",
    "\n",
    "np.random.seed(20)\n",
    "    \n",
    "def parallelize_over_samples(y_elec, regressor, model_type):    \n",
    "    func = partial(run_model_estimation, y_elec=y_elec,\n",
    "                   surprise_reg=regressor, model_type=model_type)\n",
    "    \n",
    "    sample_id = np.arange(y_elec.shape[1]).tolist()\n",
    "    start = time.time()\n",
    "\n",
    "    with multiprocessing.Pool(processes=3) as pool:\n",
    "        results = pool.map(func, sample_id)\n",
    "    print(\"Done with {} samples in secs {}\".format(y_elec.shape[1], time.time() - start))\n",
    "\n",
    "    pool.close()\n",
    "    pool.join()\n",
    "    return results"
   ]
  },
  {
   "cell_type": "code",
   "execution_count": null,
   "metadata": {},
   "outputs": [],
   "source": [
    "# logger.propagate = False\n",
    "import logging\n",
    "logger_pymc3 = logging.getLogger('pymc3')\n",
    "logger_pymc3.setLevel(logging.ERROR)"
   ]
  },
  {
   "cell_type": "code",
   "execution_count": null,
   "metadata": {},
   "outputs": [],
   "source": [
    "parallelize_over_samples(y_elec, PS_AP, \"OLS\")"
   ]
  },
  {
   "cell_type": "code",
   "execution_count": null,
   "metadata": {},
   "outputs": [],
   "source": [
    "plt.plot(y_elec[:, 200])\n",
    "plt.title(\"Raw FCz Electrode Amplitude at Trial Time\")"
   ]
  },
  {
   "cell_type": "code",
   "execution_count": null,
   "metadata": {},
   "outputs": [],
   "source": [
    "%time free_energy = run_model_estimation(y_elec, 0, PS_AP, \"OLS\")"
   ]
  },
  {
   "cell_type": "code",
   "execution_count": null,
   "metadata": {},
   "outputs": [],
   "source": [
    "plt.plot(free_energy)\n",
    "plt.title(\"Free Energy/ELBO after ADVI Optimization\")"
   ]
  },
  {
   "cell_type": "code",
   "execution_count": null,
   "metadata": {},
   "outputs": [],
   "source": [
    "template = \"{} Block | {} GLM Model | Free Energy: {} | Time: {}\"\n",
    "\n",
    "log_model_evidences = {\"PS_SP\": [], \"BS_SP\": [], \"CS_SP\": [],\n",
    "                       \"PS_AP\": [], \"BS_AP\": [], \"CS_AP\": [],\n",
    "                       \"PS_TP\": [], \"BS_TP\": [], \"CS_TP\": []}\n",
    "\n",
    "# Something wrong with events in 5th block!\n",
    "blocks = np.arange(4)\n",
    "for block_id in blocks:\n",
    "\n",
    "    sample, meta = load_obj(\"data/\" + sample_files[0][block_id] + \".mat\")\n",
    "    seq, hidden = sample[:, 2], sample[:, 1]\n",
    "    \n",
    "    PS_SP, BS_SP, CS_SP = sbl_cd.main(seq, hidden, tau=0, model_type=\"SP\")\n",
    "    PS_AP, BS_AP, CS_AP = sbl_cd.main(seq, hidden, tau=0, model_type=\"AP\")\n",
    "    PS_TP, BS_TP, CS_TP = sbl_cd.main(seq, hidden, tau=0, model_type=\"TP\")\n",
    "\n",
    "    regressors = {\"PS_SP\": PS_SP, \"BS_SP\": BS_SP, \"CS_SP\": CS_SP,\n",
    "                  \"PS_AP\": PS_AP, \"BS_AP\": BS_AP, \"CS_AP\": CS_AP,\n",
    "                  \"PS_TP\": PS_TP, \"BS_TP\": BS_TP, \"CS_TP\": CS_TP}\n",
    "    \n",
    "    y_elec = get_electrode_data(eeg_data, block_id, elec_id)\n",
    "    \n",
    "    for reg_type, surprise_reg in regressors.items():\n",
    "        start = time.time()\n",
    "        free_energy = run_model_estimation(y_elec, surprise_reg, \"OLS\")\n",
    "        lme_temp = free_energy[-1]\n",
    "        log_model_evidences[reg_type].append(lme_temp)\n",
    "        t_time = time.time() - start\n",
    "        print(template.format(block_id+1, reg_type, lme_temp, t_time))\n",
    "    "
   ]
  },
  {
   "cell_type": "code",
   "execution_count": null,
   "metadata": {},
   "outputs": [],
   "source": [
    "y_labels = [\"PS_SP\", \"BS_SP\", \"CS_SP\",\n",
    "            \"PS_AP\", \"BS_AP\", \"CS_AP\",\n",
    "            \"PS_TP\", \"BS_TP\", \"CS_TP\"]\n",
    "x_labels = [\"Block 1\", \"Block 2\", \"Block 3\", \"Block 4\"]\n",
    "\n",
    "heat_data = np.array(list(log_model_evidences.values()))\n",
    "\n",
    "\n",
    "fig, ax = plt.subplots()\n",
    "im = ax.imshow(heat_data, cmap=\"Reds\")\n",
    "\n",
    "# We want to show all ticks...\n",
    "ax.set_xticks(np.arange(len(x_labels)))\n",
    "ax.set_yticks(np.arange(len(y_labels)))\n",
    "# ... and label them with the respective list entries\n",
    "ax.set_xticklabels(x_labels)\n",
    "ax.set_yticklabels(y_labels)\n",
    "\n",
    "# Rotate the tick labels and set their alignment.\n",
    "plt.setp(ax.get_xticklabels(), rotation=45, ha=\"right\",\n",
    "         rotation_mode=\"anchor\")\n",
    "\n",
    "ax.set_title(\"Log Model Evidences: FCz\")"
   ]
  },
  {
   "cell_type": "markdown",
   "metadata": {},
   "source": [
    "* Implement Null model to compare to\n",
    "* Run over all electrodes\n",
    "* Make nice pipeline"
   ]
  },
  {
   "cell_type": "code",
   "execution_count": null,
   "metadata": {},
   "outputs": [],
   "source": []
  }
 ],
 "metadata": {
  "anaconda-cloud": {},
  "kernelspec": {
   "display_name": "Python3 (SBL)",
   "language": "python",
   "name": "sbl"
  },
  "language_info": {
   "codemirror_mode": {
    "name": "ipython",
    "version": 3
   },
   "file_extension": ".py",
   "mimetype": "text/x-python",
   "name": "python",
   "nbconvert_exporter": "python",
   "pygments_lexer": "ipython3",
   "version": "3.6.6"
  }
 },
 "nbformat": 4,
 "nbformat_minor": 2
}
